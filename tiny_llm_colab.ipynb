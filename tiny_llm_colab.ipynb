{
  "nbformat": 4,
  "nbformat_minor": 0,
  "metadata": {
    "colab": {
      "provenance": [],
      "include_colab_link": true
    },
    "kernelspec": {
      "name": "python3",
      "display_name": "Python 3"
    },
    "language_info": {
      "name": "python"
    }
  },
  "cells": [
    {
      "cell_type": "markdown",
      "metadata": {
        "id": "view-in-github",
        "colab_type": "text"
      },
      "source": [
        "<a href=\"https://colab.research.google.com/github/tanyag/tiny_llm_colab/blob/main/tiny_llm_colab.ipynb\" target=\"_parent\"><img src=\"https://colab.research.google.com/assets/colab-badge.svg\" alt=\"Open In Colab\"/></a>"
      ]
    },
    {
      "cell_type": "code",
      "execution_count": 3,
      "metadata": {
        "id": "nPic3mSuxq6N"
      },
      "outputs": [],
      "source": [
        "import torch\n",
        "import torch.nn as nn\n",
        "import torch.nn.functional as F\n"
      ]
    },
    {
      "cell_type": "code",
      "source": [
        "text = \"hello world. this is a test of a tiny language model. \" * 100\n",
        "chars = sorted(list(set(text)))\n",
        "vocab_size = len(chars)\n",
        "\n",
        "char_to_idx = {ch: i for i, ch in enumerate(chars)}\n",
        "idx_to_char = {i: ch for i, ch in enumerate(chars)}\n",
        "\n",
        "def encode(s): return [char_to_idx[c] for c in s]\n",
        "def decode(indices): return ''.join([idx_to_char[i] for i in indices])\n",
        "\n",
        "data = torch.tensor(encode(text), dtype=torch.long)\n"
      ],
      "metadata": {
        "id": "f3Krd7mgyOX5"
      },
      "execution_count": 4,
      "outputs": []
    },
    {
      "cell_type": "code",
      "source": [
        "block_size = 8\n",
        "batch_size = 4\n",
        "\n",
        "def get_batch():\n",
        "    ix = torch.randint(len(data) - block_size, (batch_size,))\n",
        "    x = torch.stack([data[i:i + block_size] for i in ix])\n",
        "    y = torch.stack([data[i + 1:i + block_size + 1] for i in ix])\n",
        "    return x, y\n"
      ],
      "metadata": {
        "id": "OzEp0iewySmM"
      },
      "execution_count": 5,
      "outputs": []
    },
    {
      "cell_type": "code",
      "source": [
        "class TinyLLM(nn.Module):\n",
        "    def __init__(self, vocab_size, n_embed=32):\n",
        "        super().__init__()\n",
        "        self.embed = nn.Embedding(vocab_size, n_embed)\n",
        "        self.fc = nn.Linear(n_embed, vocab_size)\n",
        "\n",
        "    def forward(self, idx):\n",
        "        x = self.embed(idx)\n",
        "        logits = self.fc(x)\n",
        "        return logits\n"
      ],
      "metadata": {
        "id": "oEzJ0wRAyZqQ"
      },
      "execution_count": 6,
      "outputs": []
    },
    {
      "cell_type": "code",
      "source": [
        "model = TinyLLM(vocab_size)\n",
        "optimizer = torch.optim.Adam(model.parameters(), lr=1e-3)\n",
        "\n",
        "for step in range(500):\n",
        "    x, y = get_batch()\n",
        "    logits = model(x)\n",
        "    loss = F.cross_entropy(logits.view(-1, vocab_size), y.view(-1))\n",
        "    optimizer.zero_grad()\n",
        "    loss.backward()\n",
        "    optimizer.step()\n",
        "    if step % 100 == 0:\n",
        "        print(f\"Step {step}, Loss: {loss.item():.4f}\")\n"
      ],
      "metadata": {
        "colab": {
          "base_uri": "https://localhost:8080/"
        },
        "id": "uZsD5RuYydgU",
        "outputId": "34883427-7822-4564-c34e-8a06bd5b8d29"
      },
      "execution_count": 7,
      "outputs": [
        {
          "output_type": "stream",
          "name": "stdout",
          "text": [
            "Step 0, Loss: 3.0763\n",
            "Step 100, Loss: 2.1897\n",
            "Step 200, Loss: 1.7439\n",
            "Step 300, Loss: 1.3745\n",
            "Step 400, Loss: 1.2169\n"
          ]
        }
      ]
    },
    {
      "cell_type": "code",
      "source": [
        "context = torch.tensor([[char_to_idx['h']]], dtype=torch.long)\n",
        "generated = context\n",
        "model.eval()\n",
        "for _ in range(100):\n",
        "    logits = model(generated)\n",
        "    probs = F.softmax(logits[:, -1, :], dim=-1)\n",
        "    next_token = torch.multinomial(probs, num_samples=1)\n",
        "    generated = torch.cat((generated, next_token), dim=1)\n",
        "\n",
        "print(\"\\nGenerated Text:\")\n",
        "print(decode(generated[0].tolist()))\n"
      ],
      "metadata": {
        "colab": {
          "base_uri": "https://localhost:8080/"
        },
        "id": "wnsltfxLyjhN",
        "outputId": "f35acbfd-b917-4ee6-e993-259c3c71687e"
      },
      "execution_count": 8,
      "outputs": [
        {
          "output_type": "stream",
          "name": "stdout",
          "text": [
            "\n",
            "Generated Text:\n",
            "he elld. tis od. ll. morlodes tel tdelldory a te wo f teldis mof inorldua a tuagf ti wod. nisodeloes \n"
          ]
        }
      ]
    }
  ]
}